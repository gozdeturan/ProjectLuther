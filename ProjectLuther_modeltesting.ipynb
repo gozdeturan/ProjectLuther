{
 "cells": [
  {
   "cell_type": "code",
   "execution_count": 3,
   "metadata": {},
   "outputs": [],
   "source": [
    "# Data cleaning "
   ]
  },
  {
   "cell_type": "code",
   "execution_count": 1697,
   "metadata": {},
   "outputs": [],
   "source": [
    "import pickle\n",
    "import pandas as pd\n",
    "df1 = pd.read_pickle(\"movies2018.pickle\")\n",
    "df2 = pd.read_pickle(\"movies2017.pickle\")\n",
    "df3 = pd.read_pickle(\"movies2016.pickle\")"
   ]
  },
  {
   "cell_type": "code",
   "execution_count": 1698,
   "metadata": {},
   "outputs": [],
   "source": [
    "df = pd.concat([df1, df2, df3], ignore_index=True)"
   ]
  },
  {
   "cell_type": "code",
   "execution_count": 1699,
   "metadata": {},
   "outputs": [
    {
     "name": "stdout",
     "output_type": "stream",
     "text": [
      "<class 'pandas.core.frame.DataFrame'>\n",
      "RangeIndex: 900 entries, 0 to 899\n",
      "Data columns (total 8 columns):\n",
      "distributor             900 non-null object\n",
      "domestic_total_gross    900 non-null int64\n",
      "genre                   900 non-null object\n",
      "movie_title             900 non-null object\n",
      "opening_weekend         900 non-null object\n",
      "production_budget       900 non-null object\n",
      "rating                  900 non-null object\n",
      "worldwide_gross         900 non-null object\n",
      "dtypes: int64(1), object(7)\n",
      "memory usage: 56.3+ KB\n"
     ]
    }
   ],
   "source": [
    "df.info()"
   ]
  },
  {
   "cell_type": "code",
   "execution_count": 1700,
   "metadata": {},
   "outputs": [
    {
     "data": {
      "text/plain": [
       "array(['PG-13', 'PG', 'R', 'Unrated', 'G', 'Not Yet Rated', 'Unknown'], dtype=object)"
      ]
     },
     "execution_count": 1700,
     "metadata": {},
     "output_type": "execute_result"
    }
   ],
   "source": [
    "df.rating.unique()"
   ]
  },
  {
   "cell_type": "code",
   "execution_count": 1701,
   "metadata": {},
   "outputs": [],
   "source": [
    "df = df[df[\"rating\"] != \"Unrated\"]\n",
    "df = df[df[\"rating\"] != \"Unknown\"]\n",
    "df = df[df[\"rating\"] != \"Not Yet Rated\"]"
   ]
  },
  {
   "cell_type": "code",
   "execution_count": 1702,
   "metadata": {},
   "outputs": [
    {
     "data": {
      "text/plain": [
       "array(['PG-13', 'PG', 'R', 'G'], dtype=object)"
      ]
     },
     "execution_count": 1702,
     "metadata": {},
     "output_type": "execute_result"
    }
   ],
   "source": [
    "df.rating.unique()"
   ]
  },
  {
   "cell_type": "code",
   "execution_count": 1703,
   "metadata": {},
   "outputs": [],
   "source": [
    "df.production_budget = pd.to_numeric(df['production_budget'], errors='coerce')\n",
    "df.opening_weekend   = pd.to_numeric(df['opening_weekend'], errors='coerce')\n",
    "df.worldwide_gross   = pd.to_numeric(df['worldwide_gross'], errors='coerce')\n",
    "df.domestic_total_gross   = pd.to_numeric(df['domestic_total_gross'], errors='coerce')"
   ]
  },
  {
   "cell_type": "code",
   "execution_count": 1704,
   "metadata": {},
   "outputs": [],
   "source": [
    "df.loc[(df[\"genre\"] == \"Sci-Fi Horror\") | (df[\"genre\"] == \"Action Horror\") ,\"genre\"] = \"Horror\""
   ]
  },
  {
   "cell_type": "code",
   "execution_count": 1705,
   "metadata": {},
   "outputs": [],
   "source": [
    "df.loc[(df[\"genre\"] == \"Music Drama\")| (df[\"genre\"] == \"Historical Drama\") | (df[\"genre\"] == \"War Drama\") | (df[\"genre\"] == \"Action Drama\")|(df[\"genre\"] == \"Comedy / Drama\") |(df[\"genre\"] == \"Fantasy Drama\")| (df[\"genre\"] == \"Sports Drama\") | (df[\"genre\"] == \"Crime Drama\"), \"genre\"] = \"Drama\""
   ]
  },
  {
   "cell_type": "code",
   "execution_count": 1706,
   "metadata": {},
   "outputs": [],
   "source": [
    "df.loc[(df[\"genre\"] == \"Sci-Fi Thriller\") |(df[\"genre\"] == \"Horror Thriller\")| (df[\"genre\"] == \"Crime Thriller\")|(df[\"genre\"] == \"Romantic Thriller\") | (df[\"genre\"] == \"Comedy Thriller\") | (df[\"genre\"] == \"Drama / Thriller\"), \"genre\"] = \"Thriller\"\n",
    "\n"
   ]
  },
  {
   "cell_type": "code",
   "execution_count": 1707,
   "metadata": {},
   "outputs": [],
   "source": [
    "df.loc[(df[\"genre\"] == \"Romantic Comedy\")| (df[\"genre\"] == \"Adventure Comedy\") | (df[\"genre\"] == \"Crime Comedy\")|(df[\"genre\"] == \"Family Comedy\") |  (df[\"genre\"] == \"Sci-Fi Comedy\")| (df[\"genre\"] == \"Horror Comedy\"),\"genre\"] = \"Comedy\"\n",
    "\n"
   ]
  },
  {
   "cell_type": "code",
   "execution_count": 1708,
   "metadata": {},
   "outputs": [],
   "source": [
    "df.loc[(df[\"genre\"] == \"Action / Adventure\")  | (df[\"genre\"] == \"Sci-Fi Action\") | (df[\"genre\"] == \"Action Fantasy\")| (df[\"genre\"] == \"Action Comedy\") | (df[\"genre\"] == \"Action / Crime\") | (df[\"genre\"] == \"Action Thriller\"), \"genre\"] = \"Action\""
   ]
  },
  {
   "cell_type": "code",
   "execution_count": 1709,
   "metadata": {},
   "outputs": [],
   "source": [
    "df.loc[(df[\"genre\"] == \"Family Adventure\") |(df[\"genre\"] == \"Period Adventure\") | (df[\"genre\"] == \"Sci-Fi Adventure\")  ,\"genre\"] = \"Adventure\""
   ]
  },
  {
   "cell_type": "code",
   "execution_count": 1710,
   "metadata": {},
   "outputs": [],
   "source": [
    "df = df[df[\"genre\"] != \"Foreign\"]\n",
    "df = df[df[\"genre\"] != \"Western\"]\n",
    "df = df[df[\"genre\"] != \"Sports\"]\n",
    "df = df[df[\"genre\"] != \"Documentary\"]\n",
    "df = df[df[\"genre\"] != \"Musical\"]\n",
    "df = df[df[\"genre\"] != \"Family\"]\n",
    "df = df[df[\"genre\"] != \"Documentary\"]\n",
    "df = df[df[\"genre\"] != \"Animation\"]\n",
    "df = df[df[\"genre\"] != \"Fantasy\"]\n",
    "df = df[df[\"genre\"] != \"Sci-Fi\"]\n",
    "df = df[df[\"genre\"] != \"Sci-Fi Fantasy\"]\n",
    "df = df[df[\"genre\"] != \"War\"]\n",
    "df = df[df[\"genre\"] != \"Concert\"]\n",
    "df = df[df[\"genre\"] != \"Historical Epic\"]"
   ]
  },
  {
   "cell_type": "code",
   "execution_count": 1711,
   "metadata": {},
   "outputs": [
    {
     "data": {
      "text/plain": [
       "array(['Action', 'Thriller', 'Comedy', 'Horror', 'Romance', 'Drama',\n",
       "       'Adventure', 'Crime'], dtype=object)"
      ]
     },
     "execution_count": 1711,
     "metadata": {},
     "output_type": "execute_result"
    }
   ],
   "source": [
    "df.genre.unique()"
   ]
  },
  {
   "cell_type": "code",
   "execution_count": 1713,
   "metadata": {},
   "outputs": [],
   "source": [
    "df = df[(df[\"distributor\"] == \"Universal\") | (df[\"distributor\"] == \"Fox\") | (df[\"distributor\"] == \"Warner Bros.\") | (df[\"distributor\"] == \"Sony / Columbia\") | (df[\"distributor\"] == \"Buena Vista\")]"
   ]
  },
  {
   "cell_type": "code",
   "execution_count": 1714,
   "metadata": {},
   "outputs": [
    {
     "name": "stderr",
     "output_type": "stream",
     "text": [
      "/usr/local/Cellar/python3/3.6.4/Frameworks/Python.framework/Versions/3.6/lib/python3.6/site-packages/ipykernel_launcher.py:1: FutureWarning: pandas.scatter_matrix is deprecated, use pandas.plotting.scatter_matrix instead\n",
      "  \"\"\"Entry point for launching an IPython kernel.\n"
     ]
    },
    {
     "data": {
      "text/plain": [
       "array([[<matplotlib.axes._subplots.AxesSubplot object at 0x1206b2a20>,\n",
       "        <matplotlib.axes._subplots.AxesSubplot object at 0x120197e80>],\n",
       "       [<matplotlib.axes._subplots.AxesSubplot object at 0x1209df5c0>,\n",
       "        <matplotlib.axes._subplots.AxesSubplot object at 0x120a05c50>]], dtype=object)"
      ]
     },
     "execution_count": 1714,
     "metadata": {},
     "output_type": "execute_result"
    },
    {
     "data": {
      "image/png": "[encoded data removed]",
      "text/plain": [
       "<Figure size 432x288 with 4 Axes>"
      ]
     },
     "metadata": {},
     "output_type": "display_data"
    }
   ],
   "source": [
    "pd.scatter_matrix(df[['worldwide_gross', 'production_budget']])"
   ]
  },
  {
   "cell_type": "code",
   "execution_count": 1715,
   "metadata": {},
   "outputs": [],
   "source": [
    "#pd.scatter_matrix(df[['log_domestic_total_gross', 'log_production_budget']])"
   ]
  },
  {
   "cell_type": "code",
   "execution_count": 1716,
   "metadata": {},
   "outputs": [],
   "source": [
    "#import numpy as np\n",
    "#df['log_domestic_total_gross'] = np.log(df['domestic_total_gross'])\n",
    "#df['log_production_budget']    = np.log(df['production_budget'])\n",
    "#df['log_opening_weekend']      = np.log(df['opening_weekend'])\n",
    "#df['log_worldwide_gross']      = np.log(df['worldwide_gross'])"
   ]
  },
  {
   "cell_type": "code",
   "execution_count": 1717,
   "metadata": {},
   "outputs": [
    {
     "data": {
      "text/html": [
       "<div>\n",
       "<style scoped>\n",
       "    .dataframe tbody tr th:only-of-type {\n",
       "        vertical-align: middle;\n",
       "    }\n",
       "\n",
       "    .dataframe tbody tr th {\n",
       "        vertical-align: top;\n",
       "    }\n",
       "\n",
       "    .dataframe thead th {\n",
       "        text-align: right;\n",
       "    }\n",
       "</style>\n",
       "<table border=\"1\" class=\"dataframe\">\n",
       "  <thead>\n",
       "    <tr style=\"text-align: right;\">\n",
       "      <th></th>\n",
       "      <th>distributor</th>\n",
       "      <th>domestic_total_gross</th>\n",
       "      <th>genre</th>\n",
       "      <th>movie_title</th>\n",
       "      <th>opening_weekend</th>\n",
       "      <th>production_budget</th>\n",
       "      <th>rating</th>\n",
       "      <th>worldwide_gross</th>\n",
       "    </tr>\n",
       "  </thead>\n",
       "  <tbody>\n",
       "    <tr>\n",
       "      <th>0</th>\n",
       "      <td>Buena Vista</td>\n",
       "      <td>700059566</td>\n",
       "      <td>Action</td>\n",
       "      <td>Black Panther</td>\n",
       "      <td>202003951.0</td>\n",
       "      <td>200000000.0</td>\n",
       "      <td>PG-13</td>\n",
       "      <td>1.346909e+09</td>\n",
       "    </tr>\n",
       "    <tr>\n",
       "      <th>1</th>\n",
       "      <td>Buena Vista</td>\n",
       "      <td>678815482</td>\n",
       "      <td>Action</td>\n",
       "      <td>Avengers: Infinity War</td>\n",
       "      <td>257698183.0</td>\n",
       "      <td>300000000.0</td>\n",
       "      <td>PG-13</td>\n",
       "      <td>2.046626e+09</td>\n",
       "    </tr>\n",
       "    <tr>\n",
       "      <th>3</th>\n",
       "      <td>Universal</td>\n",
       "      <td>416769345</td>\n",
       "      <td>Action</td>\n",
       "      <td>Jurassic World: Fallen Kingdom</td>\n",
       "      <td>148024610.0</td>\n",
       "      <td>170000000.0</td>\n",
       "      <td>PG-13</td>\n",
       "      <td>1.304808e+09</td>\n",
       "    </tr>\n",
       "    <tr>\n",
       "      <th>4</th>\n",
       "      <td>Fox</td>\n",
       "      <td>318490305</td>\n",
       "      <td>Action</td>\n",
       "      <td>Deadpool 2</td>\n",
       "      <td>125507153.0</td>\n",
       "      <td>110000000.0</td>\n",
       "      <td>R</td>\n",
       "      <td>7.342448e+08</td>\n",
       "    </tr>\n",
       "    <tr>\n",
       "      <th>6</th>\n",
       "      <td>Buena Vista</td>\n",
       "      <td>216417757</td>\n",
       "      <td>Action</td>\n",
       "      <td>Ant-Man and the Wasp</td>\n",
       "      <td>75812205.0</td>\n",
       "      <td>130000000.0</td>\n",
       "      <td>PG-13</td>\n",
       "      <td>6.220303e+08</td>\n",
       "    </tr>\n",
       "  </tbody>\n",
       "</table>\n",
       "</div>"
      ],
      "text/plain": [
       "   distributor  domestic_total_gross   genre                     movie_title  \\\n",
       "0  Buena Vista             700059566  Action                   Black Panther   \n",
       "1  Buena Vista             678815482  Action          Avengers: Infinity War   \n",
       "3    Universal             416769345  Action  Jurassic World: Fallen Kingdom   \n",
       "4          Fox             318490305  Action                      Deadpool 2   \n",
       "6  Buena Vista             216417757  Action            Ant-Man and the Wasp   \n",
       "\n",
       "   opening_weekend  production_budget rating  worldwide_gross  \n",
       "0      202003951.0        200000000.0  PG-13     1.346909e+09  \n",
       "1      257698183.0        300000000.0  PG-13     2.046626e+09  \n",
       "3      148024610.0        170000000.0  PG-13     1.304808e+09  \n",
       "4      125507153.0        110000000.0      R     7.342448e+08  \n",
       "6       75812205.0        130000000.0  PG-13     6.220303e+08  "
      ]
     },
     "execution_count": 1717,
     "metadata": {},
     "output_type": "execute_result"
    }
   ],
   "source": [
    "df.head()"
   ]
  },
  {
   "cell_type": "code",
   "execution_count": 1718,
   "metadata": {},
   "outputs": [],
   "source": [
    "import statsmodels.api as sm\n",
    "import statsmodels.formula.api as smf\n",
    "from sklearn import linear_model\n",
    "from sklearn.linear_model import LinearRegression\n",
    "%matplotlib inline"
   ]
  },
  {
   "cell_type": "code",
   "execution_count": 1719,
   "metadata": {},
   "outputs": [],
   "source": [
    "model = smf.ols(formula= 'worldwide_gross ~  domestic_total_gross + opening_weekend + production_budget + distributor + genre + rating', data = df)\n",
    "\n"
   ]
  },
  {
   "cell_type": "code",
   "execution_count": 1720,
   "metadata": {},
   "outputs": [],
   "source": [
    "results = model.fit()"
   ]
  },
  {
   "cell_type": "code",
   "execution_count": 1721,
   "metadata": {},
   "outputs": [
    {
     "data": {
      "text/html": [
       "<table class=\"simpletable\">\n",
       "<caption>OLS Regression Results</caption>\n",
       "<tr>\n",
       "  <th>Dep. Variable:</th>     <td>worldwide_gross</td> <th>  R-squared:         </th> <td>   0.921</td>\n",
       "</tr>\n",
       "<tr>\n",
       "  <th>Model:</th>                   <td>OLS</td>       <th>  Adj. R-squared:    </th> <td>   0.907</td>\n",
       "</tr>\n",
       "<tr>\n",
       "  <th>Method:</th>             <td>Least Squares</td>  <th>  F-statistic:       </th> <td>   64.51</td>\n",
       "</tr>\n",
       "<tr>\n",
       "  <th>Date:</th>             <td>Thu, 11 Oct 2018</td> <th>  Prob (F-statistic):</th> <td>3.24e-39</td>\n",
       "</tr>\n",
       "<tr>\n",
       "  <th>Time:</th>                 <td>20:15:56</td>     <th>  Log-Likelihood:    </th> <td> -1966.8</td>\n",
       "</tr>\n",
       "<tr>\n",
       "  <th>No. Observations:</th>      <td>    99</td>      <th>  AIC:               </th> <td>   3966.</td>\n",
       "</tr>\n",
       "<tr>\n",
       "  <th>Df Residuals:</th>          <td>    83</td>      <th>  BIC:               </th> <td>   4007.</td>\n",
       "</tr>\n",
       "<tr>\n",
       "  <th>Df Model:</th>              <td>    15</td>      <th>                     </th>     <td> </td>   \n",
       "</tr>\n",
       "<tr>\n",
       "  <th>Covariance Type:</th>      <td>nonrobust</td>    <th>                     </th>     <td> </td>   \n",
       "</tr>\n",
       "</table>\n",
       "<table class=\"simpletable\">\n",
       "<tr>\n",
       "                 <td></td>                   <th>coef</th>     <th>std err</th>      <th>t</th>      <th>P>|t|</th>  <th>[0.025</th>    <th>0.975]</th>  \n",
       "</tr>\n",
       "<tr>\n",
       "  <th>Intercept</th>                      <td>-1.138e+08</td> <td> 4.77e+07</td> <td>   -2.387</td> <td> 0.019</td> <td>-2.09e+08</td> <td> -1.9e+07</td>\n",
       "</tr>\n",
       "<tr>\n",
       "  <th>distributor[T.Fox]</th>             <td> 9.238e+07</td> <td> 4.93e+07</td> <td>    1.876</td> <td> 0.064</td> <td>-5.58e+06</td> <td>  1.9e+08</td>\n",
       "</tr>\n",
       "<tr>\n",
       "  <th>distributor[T.Sony / Columbia]</th> <td> 1.423e+08</td> <td> 5.51e+07</td> <td>    2.584</td> <td> 0.012</td> <td> 3.28e+07</td> <td> 2.52e+08</td>\n",
       "</tr>\n",
       "<tr>\n",
       "  <th>distributor[T.Universal]</th>       <td> 1.313e+08</td> <td> 4.89e+07</td> <td>    2.683</td> <td> 0.009</td> <td> 3.39e+07</td> <td> 2.29e+08</td>\n",
       "</tr>\n",
       "<tr>\n",
       "  <th>distributor[T.Warner Bros.]</th>    <td> 2.631e+07</td> <td> 4.68e+07</td> <td>    0.562</td> <td> 0.575</td> <td>-6.67e+07</td> <td> 1.19e+08</td>\n",
       "</tr>\n",
       "<tr>\n",
       "  <th>genre[T.Adventure]</th>             <td> 1.589e+06</td> <td> 5.41e+07</td> <td>    0.029</td> <td> 0.977</td> <td>-1.06e+08</td> <td> 1.09e+08</td>\n",
       "</tr>\n",
       "<tr>\n",
       "  <th>genre[T.Comedy]</th>                <td>-1.759e+07</td> <td> 4.11e+07</td> <td>   -0.427</td> <td> 0.670</td> <td>-9.94e+07</td> <td> 6.42e+07</td>\n",
       "</tr>\n",
       "<tr>\n",
       "  <th>genre[T.Crime]</th>                 <td>-7.903e-09</td> <td>  3.6e-08</td> <td>   -0.219</td> <td> 0.827</td> <td>-7.95e-08</td> <td> 6.37e-08</td>\n",
       "</tr>\n",
       "<tr>\n",
       "  <th>genre[T.Drama]</th>                 <td> 8.122e+07</td> <td> 4.63e+07</td> <td>    1.755</td> <td> 0.083</td> <td>-1.08e+07</td> <td> 1.73e+08</td>\n",
       "</tr>\n",
       "<tr>\n",
       "  <th>genre[T.Horror]</th>                <td>-1.066e+07</td> <td> 5.55e+07</td> <td>   -0.192</td> <td> 0.848</td> <td>-1.21e+08</td> <td> 9.98e+07</td>\n",
       "</tr>\n",
       "<tr>\n",
       "  <th>genre[T.Romance]</th>               <td> 8.457e+07</td> <td> 8.84e+07</td> <td>    0.957</td> <td> 0.341</td> <td>-9.12e+07</td> <td>  2.6e+08</td>\n",
       "</tr>\n",
       "<tr>\n",
       "  <th>genre[T.Thriller]</th>              <td> 1.778e+07</td> <td> 4.26e+07</td> <td>    0.417</td> <td> 0.678</td> <td> -6.7e+07</td> <td> 1.03e+08</td>\n",
       "</tr>\n",
       "<tr>\n",
       "  <th>rating[T.PG]</th>                   <td>-3.687e+07</td> <td> 4.78e+07</td> <td>   -0.771</td> <td> 0.443</td> <td>-1.32e+08</td> <td> 5.83e+07</td>\n",
       "</tr>\n",
       "<tr>\n",
       "  <th>rating[T.PG-13]</th>                <td>-3.661e+07</td> <td> 2.68e+07</td> <td>   -1.364</td> <td> 0.176</td> <td>   -9e+07</td> <td> 1.68e+07</td>\n",
       "</tr>\n",
       "<tr>\n",
       "  <th>rating[T.R]</th>                    <td> -4.03e+07</td> <td>    3e+07</td> <td>   -1.345</td> <td> 0.182</td> <td>-9.99e+07</td> <td> 1.93e+07</td>\n",
       "</tr>\n",
       "<tr>\n",
       "  <th>domestic_total_gross</th>           <td>    1.5671</td> <td>    0.267</td> <td>    5.879</td> <td> 0.000</td> <td>    1.037</td> <td>    2.097</td>\n",
       "</tr>\n",
       "<tr>\n",
       "  <th>opening_weekend</th>                <td>    1.1490</td> <td>    0.863</td> <td>    1.331</td> <td> 0.187</td> <td>   -0.568</td> <td>    2.866</td>\n",
       "</tr>\n",
       "<tr>\n",
       "  <th>production_budget</th>              <td>    1.7264</td> <td>    0.308</td> <td>    5.600</td> <td> 0.000</td> <td>    1.113</td> <td>    2.340</td>\n",
       "</tr>\n",
       "</table>\n",
       "<table class=\"simpletable\">\n",
       "<tr>\n",
       "  <th>Omnibus:</th>       <td>26.076</td> <th>  Durbin-Watson:     </th> <td>   2.087</td>\n",
       "</tr>\n",
       "<tr>\n",
       "  <th>Prob(Omnibus):</th> <td> 0.000</td> <th>  Jarque-Bera (JB):  </th> <td>  57.475</td>\n",
       "</tr>\n",
       "<tr>\n",
       "  <th>Skew:</th>          <td> 0.971</td> <th>  Prob(JB):          </th> <td>3.31e-13</td>\n",
       "</tr>\n",
       "<tr>\n",
       "  <th>Kurtosis:</th>      <td> 6.187</td> <th>  Cond. No.          </th> <td>6.62e+25</td>\n",
       "</tr>\n",
       "</table><br/><br/>Warnings:<br/>[1] Standard Errors assume that the covariance matrix of the errors is correctly specified.<br/>[2] The smallest eigenvalue is 1.1e-33. This might indicate that there are<br/>strong multicollinearity problems or that the design matrix is singular."
      ],
      "text/plain": [
       "<class 'statsmodels.iolib.summary.Summary'>\n",
       "\"\"\"\n",
       "                            OLS Regression Results                            \n",
       "==============================================================================\n",
       "Dep. Variable:        worldwide_gross   R-squared:                       0.921\n",
       "Model:                            OLS   Adj. R-squared:                  0.907\n",
       "Method:                 Least Squares   F-statistic:                     64.51\n",
       "Date:                Thu, 11 Oct 2018   Prob (F-statistic):           3.24e-39\n",
       "Time:                        20:15:56   Log-Likelihood:                -1966.8\n",
       "No. Observations:                  99   AIC:                             3966.\n",
       "Df Residuals:                      83   BIC:                             4007.\n",
       "Df Model:                          15                                         \n",
       "Covariance Type:            nonrobust                                         \n",
       "==================================================================================================\n",
       "                                     coef    std err          t      P>|t|      [0.025      0.975]\n",
       "--------------------------------------------------------------------------------------------------\n",
       "Intercept                      -1.138e+08   4.77e+07     -2.387      0.019   -2.09e+08    -1.9e+07\n",
       "distributor[T.Fox]              9.238e+07   4.93e+07      1.876      0.064   -5.58e+06     1.9e+08\n",
       "distributor[T.Sony / Columbia]  1.423e+08   5.51e+07      2.584      0.012    3.28e+07    2.52e+08\n",
       "distributor[T.Universal]        1.313e+08   4.89e+07      2.683      0.009    3.39e+07    2.29e+08\n",
       "distributor[T.Warner Bros.]     2.631e+07   4.68e+07      0.562      0.575   -6.67e+07    1.19e+08\n",
       "genre[T.Adventure]              1.589e+06   5.41e+07      0.029      0.977   -1.06e+08    1.09e+08\n",
       "genre[T.Comedy]                -1.759e+07   4.11e+07     -0.427      0.670   -9.94e+07    6.42e+07\n",
       "genre[T.Crime]                 -7.903e-09    3.6e-08     -0.219      0.827   -7.95e-08    6.37e-08\n",
       "genre[T.Drama]                  8.122e+07   4.63e+07      1.755      0.083   -1.08e+07    1.73e+08\n",
       "genre[T.Horror]                -1.066e+07   5.55e+07     -0.192      0.848   -1.21e+08    9.98e+07\n",
       "genre[T.Romance]                8.457e+07   8.84e+07      0.957      0.341   -9.12e+07     2.6e+08\n",
       "genre[T.Thriller]               1.778e+07   4.26e+07      0.417      0.678    -6.7e+07    1.03e+08\n",
       "rating[T.PG]                   -3.687e+07   4.78e+07     -0.771      0.443   -1.32e+08    5.83e+07\n",
       "rating[T.PG-13]                -3.661e+07   2.68e+07     -1.364      0.176      -9e+07    1.68e+07\n",
       "rating[T.R]                     -4.03e+07      3e+07     -1.345      0.182   -9.99e+07    1.93e+07\n",
       "domestic_total_gross               1.5671      0.267      5.879      0.000       1.037       2.097\n",
       "opening_weekend                    1.1490      0.863      1.331      0.187      -0.568       2.866\n",
       "production_budget                  1.7264      0.308      5.600      0.000       1.113       2.340\n",
       "==============================================================================\n",
       "Omnibus:                       26.076   Durbin-Watson:                   2.087\n",
       "Prob(Omnibus):                  0.000   Jarque-Bera (JB):               57.475\n",
       "Skew:                           0.971   Prob(JB):                     3.31e-13\n",
       "Kurtosis:                       6.187   Cond. No.                     6.62e+25\n",
       "==============================================================================\n",
       "\n",
       "Warnings:\n",
       "[1] Standard Errors assume that the covariance matrix of the errors is correctly specified.\n",
       "[2] The smallest eigenvalue is 1.1e-33. This might indicate that there are\n",
       "strong multicollinearity problems or that the design matrix is singular.\n",
       "\"\"\""
      ]
     },
     "execution_count": 1721,
     "metadata": {},
     "output_type": "execute_result"
    }
   ],
   "source": [
    "results.summary()"
   ]
  },
  {
   "cell_type": "code",
   "execution_count": 1722,
   "metadata": {},
   "outputs": [
    {
     "data": {
      "text/html": [
       "<table class=\"simpletable\">\n",
       "<caption>OLS Regression Results</caption>\n",
       "<tr>\n",
       "  <th>Dep. Variable:</th>     <td>worldwide_gross</td> <th>  R-squared:         </th> <td>   0.921</td>\n",
       "</tr>\n",
       "<tr>\n",
       "  <th>Model:</th>                   <td>OLS</td>       <th>  Adj. R-squared:    </th> <td>   0.909</td>\n",
       "</tr>\n",
       "<tr>\n",
       "  <th>Method:</th>             <td>Least Squares</td>  <th>  F-statistic:       </th> <td>   76.22</td>\n",
       "</tr>\n",
       "<tr>\n",
       "  <th>Date:</th>             <td>Thu, 11 Oct 2018</td> <th>  Prob (F-statistic):</th> <td>4.28e-41</td>\n",
       "</tr>\n",
       "<tr>\n",
       "  <th>Time:</th>                 <td>20:16:06</td>     <th>  Log-Likelihood:    </th> <td> -1966.8</td>\n",
       "</tr>\n",
       "<tr>\n",
       "  <th>No. Observations:</th>      <td>    99</td>      <th>  AIC:               </th> <td>   3962.</td>\n",
       "</tr>\n",
       "<tr>\n",
       "  <th>Df Residuals:</th>          <td>    85</td>      <th>  BIC:               </th> <td>   3998.</td>\n",
       "</tr>\n",
       "<tr>\n",
       "  <th>Df Model:</th>              <td>    13</td>      <th>                     </th>     <td> </td>   \n",
       "</tr>\n",
       "<tr>\n",
       "  <th>Covariance Type:</th>      <td>nonrobust</td>    <th>                     </th>     <td> </td>   \n",
       "</tr>\n",
       "</table>\n",
       "<table class=\"simpletable\">\n",
       "<tr>\n",
       "                 <td></td>                   <th>coef</th>     <th>std err</th>      <th>t</th>      <th>P>|t|</th>  <th>[0.025</th>    <th>0.975]</th>  \n",
       "</tr>\n",
       "<tr>\n",
       "  <th>Intercept</th>                      <td>-1.514e+08</td> <td> 6.19e+07</td> <td>   -2.445</td> <td> 0.017</td> <td>-2.75e+08</td> <td>-2.83e+07</td>\n",
       "</tr>\n",
       "<tr>\n",
       "  <th>distributor[T.Fox]</th>             <td> 9.132e+07</td> <td> 4.75e+07</td> <td>    1.923</td> <td> 0.058</td> <td>-3.08e+06</td> <td> 1.86e+08</td>\n",
       "</tr>\n",
       "<tr>\n",
       "  <th>distributor[T.Sony / Columbia]</th> <td> 1.416e+08</td> <td> 5.34e+07</td> <td>    2.654</td> <td> 0.009</td> <td> 3.55e+07</td> <td> 2.48e+08</td>\n",
       "</tr>\n",
       "<tr>\n",
       "  <th>distributor[T.Universal]</th>       <td> 1.311e+08</td> <td> 4.79e+07</td> <td>    2.740</td> <td> 0.007</td> <td>  3.6e+07</td> <td> 2.26e+08</td>\n",
       "</tr>\n",
       "<tr>\n",
       "  <th>distributor[T.Warner Bros.]</th>    <td> 2.579e+07</td> <td>  4.5e+07</td> <td>    0.573</td> <td> 0.568</td> <td>-6.37e+07</td> <td> 1.15e+08</td>\n",
       "</tr>\n",
       "<tr>\n",
       "  <th>genre[T.Adventure]</th>             <td> 1.733e+06</td> <td> 5.18e+07</td> <td>    0.033</td> <td> 0.973</td> <td>-1.01e+08</td> <td> 1.05e+08</td>\n",
       "</tr>\n",
       "<tr>\n",
       "  <th>genre[T.Comedy]</th>                <td>-1.834e+07</td> <td> 4.02e+07</td> <td>   -0.456</td> <td> 0.650</td> <td>-9.83e+07</td> <td> 6.16e+07</td>\n",
       "</tr>\n",
       "<tr>\n",
       "  <th>genre[T.Crime]</th>                 <td>-6.183e-08</td> <td> 3.09e-08</td> <td>   -1.999</td> <td> 0.049</td> <td>-1.23e-07</td> <td>-3.41e-10</td>\n",
       "</tr>\n",
       "<tr>\n",
       "  <th>genre[T.Drama]</th>                 <td> 8.099e+07</td> <td> 4.56e+07</td> <td>    1.778</td> <td> 0.079</td> <td>-9.59e+06</td> <td> 1.72e+08</td>\n",
       "</tr>\n",
       "<tr>\n",
       "  <th>genre[T.Horror]</th>                <td>-1.054e+07</td> <td> 5.48e+07</td> <td>   -0.192</td> <td> 0.848</td> <td> -1.2e+08</td> <td> 9.85e+07</td>\n",
       "</tr>\n",
       "<tr>\n",
       "  <th>genre[T.Romance]</th>               <td> 8.183e+07</td> <td> 8.48e+07</td> <td>    0.965</td> <td> 0.337</td> <td>-8.68e+07</td> <td>  2.5e+08</td>\n",
       "</tr>\n",
       "<tr>\n",
       "  <th>genre[T.Thriller]</th>              <td> 1.654e+07</td> <td>  4.1e+07</td> <td>    0.403</td> <td> 0.688</td> <td> -6.5e+07</td> <td> 9.81e+07</td>\n",
       "</tr>\n",
       "<tr>\n",
       "  <th>domestic_total_gross</th>           <td>    1.5709</td> <td>    0.262</td> <td>    6.001</td> <td> 0.000</td> <td>    1.050</td> <td>    2.091</td>\n",
       "</tr>\n",
       "<tr>\n",
       "  <th>opening_weekend</th>                <td>    1.1340</td> <td>    0.845</td> <td>    1.342</td> <td> 0.183</td> <td>   -0.546</td> <td>    2.814</td>\n",
       "</tr>\n",
       "<tr>\n",
       "  <th>production_budget</th>              <td>    1.7346</td> <td>    0.298</td> <td>    5.817</td> <td> 0.000</td> <td>    1.142</td> <td>    2.327</td>\n",
       "</tr>\n",
       "</table>\n",
       "<table class=\"simpletable\">\n",
       "<tr>\n",
       "  <th>Omnibus:</th>       <td>25.630</td> <th>  Durbin-Watson:     </th> <td>   2.090</td>\n",
       "</tr>\n",
       "<tr>\n",
       "  <th>Prob(Omnibus):</th> <td> 0.000</td> <th>  Jarque-Bera (JB):  </th> <td>  55.955</td>\n",
       "</tr>\n",
       "<tr>\n",
       "  <th>Skew:</th>          <td> 0.958</td> <th>  Prob(JB):          </th> <td>7.07e-13</td>\n",
       "</tr>\n",
       "<tr>\n",
       "  <th>Kurtosis:</th>      <td> 6.146</td> <th>  Cond. No.          </th> <td>9.65e+24</td>\n",
       "</tr>\n",
       "</table><br/><br/>Warnings:<br/>[1] Standard Errors assume that the covariance matrix of the errors is correctly specified.<br/>[2] The smallest eigenvalue is 5.17e-32. This might indicate that there are<br/>strong multicollinearity problems or that the design matrix is singular."
      ],
      "text/plain": [
       "<class 'statsmodels.iolib.summary.Summary'>\n",
       "\"\"\"\n",
       "                            OLS Regression Results                            \n",
       "==============================================================================\n",
       "Dep. Variable:        worldwide_gross   R-squared:                       0.921\n",
       "Model:                            OLS   Adj. R-squared:                  0.909\n",
       "Method:                 Least Squares   F-statistic:                     76.22\n",
       "Date:                Thu, 11 Oct 2018   Prob (F-statistic):           4.28e-41\n",
       "Time:                        20:16:06   Log-Likelihood:                -1966.8\n",
       "No. Observations:                  99   AIC:                             3962.\n",
       "Df Residuals:                      85   BIC:                             3998.\n",
       "Df Model:                          13                                         \n",
       "Covariance Type:            nonrobust                                         \n",
       "==================================================================================================\n",
       "                                     coef    std err          t      P>|t|      [0.025      0.975]\n",
       "--------------------------------------------------------------------------------------------------\n",
       "Intercept                      -1.514e+08   6.19e+07     -2.445      0.017   -2.75e+08   -2.83e+07\n",
       "distributor[T.Fox]              9.132e+07   4.75e+07      1.923      0.058   -3.08e+06    1.86e+08\n",
       "distributor[T.Sony / Columbia]  1.416e+08   5.34e+07      2.654      0.009    3.55e+07    2.48e+08\n",
       "distributor[T.Universal]        1.311e+08   4.79e+07      2.740      0.007     3.6e+07    2.26e+08\n",
       "distributor[T.Warner Bros.]     2.579e+07    4.5e+07      0.573      0.568   -6.37e+07    1.15e+08\n",
       "genre[T.Adventure]              1.733e+06   5.18e+07      0.033      0.973   -1.01e+08    1.05e+08\n",
       "genre[T.Comedy]                -1.834e+07   4.02e+07     -0.456      0.650   -9.83e+07    6.16e+07\n",
       "genre[T.Crime]                 -6.183e-08   3.09e-08     -1.999      0.049   -1.23e-07   -3.41e-10\n",
       "genre[T.Drama]                  8.099e+07   4.56e+07      1.778      0.079   -9.59e+06    1.72e+08\n",
       "genre[T.Horror]                -1.054e+07   5.48e+07     -0.192      0.848    -1.2e+08    9.85e+07\n",
       "genre[T.Romance]                8.183e+07   8.48e+07      0.965      0.337   -8.68e+07     2.5e+08\n",
       "genre[T.Thriller]               1.654e+07    4.1e+07      0.403      0.688    -6.5e+07    9.81e+07\n",
       "domestic_total_gross               1.5709      0.262      6.001      0.000       1.050       2.091\n",
       "opening_weekend                    1.1340      0.845      1.342      0.183      -0.546       2.814\n",
       "production_budget                  1.7346      0.298      5.817      0.000       1.142       2.327\n",
       "==============================================================================\n",
       "Omnibus:                       25.630   Durbin-Watson:                   2.090\n",
       "Prob(Omnibus):                  0.000   Jarque-Bera (JB):               55.955\n",
       "Skew:                           0.958   Prob(JB):                     7.07e-13\n",
       "Kurtosis:                       6.146   Cond. No.                     9.65e+24\n",
       "==============================================================================\n",
       "\n",
       "Warnings:\n",
       "[1] Standard Errors assume that the covariance matrix of the errors is correctly specified.\n",
       "[2] The smallest eigenvalue is 5.17e-32. This might indicate that there are\n",
       "strong multicollinearity problems or that the design matrix is singular.\n",
       "\"\"\""
      ]
     },
     "execution_count": 1722,
     "metadata": {},
     "output_type": "execute_result"
    }
   ],
   "source": [
    "model = smf.ols(formula= 'worldwide_gross ~  domestic_total_gross + opening_weekend + production_budget + distributor + genre ', data = df)\n",
    "results = model.fit()\n",
    "results.summary()"
   ]
  },
  {
   "cell_type": "code",
   "execution_count": 1723,
   "metadata": {},
   "outputs": [],
   "source": [
    "df = df.drop(columns=['rating'])\n",
    "distributor_dummy = pd.get_dummies(df['distributor'], drop_first=True, prefix='dist')\n",
    "genre_dummy       = pd.get_dummies(df['genre'], drop_first=True, prefix='genre')"
   ]
  },
  {
   "cell_type": "code",
   "execution_count": 1724,
   "metadata": {},
   "outputs": [],
   "source": [
    "new_df = pd.concat([df.drop(['distributor', 'genre'], axis=1), distributor_dummy, genre_dummy ], axis = 1)\n"
   ]
  },
  {
   "cell_type": "code",
   "execution_count": 1725,
   "metadata": {},
   "outputs": [
    {
     "data": {
      "text/plain": [
       "Index(['domestic_total_gross', 'movie_title', 'opening_weekend',\n",
       "       'production_budget', 'worldwide_gross', 'dist_Fox',\n",
       "       'dist_Sony / Columbia', 'dist_Universal', 'dist_Warner Bros.',\n",
       "       'genre_Adventure', 'genre_Comedy', 'genre_Crime', 'genre_Drama',\n",
       "       'genre_Horror', 'genre_Romance', 'genre_Thriller'],\n",
       "      dtype='object')"
      ]
     },
     "execution_count": 1725,
     "metadata": {},
     "output_type": "execute_result"
    }
   ],
   "source": [
    "new_df.columns"
   ]
  },
  {
   "cell_type": "code",
   "execution_count": 1726,
   "metadata": {},
   "outputs": [],
   "source": [
    "new_df = new_df.rename(columns={'dist_Sony / Columbia': 'dist_Sony_Columbia'})\n",
    "new_df = new_df.rename(columns={'dist_Warner Bros.': 'dist_Warner_Bros'})\n"
   ]
  },
  {
   "cell_type": "code",
   "execution_count": 1729,
   "metadata": {},
   "outputs": [
    {
     "data": {
      "text/html": [
       "<table class=\"simpletable\">\n",
       "<caption>OLS Regression Results</caption>\n",
       "<tr>\n",
       "  <th>Dep. Variable:</th>     <td>worldwide_gross</td> <th>  R-squared:         </th> <td>   0.921</td>\n",
       "</tr>\n",
       "<tr>\n",
       "  <th>Model:</th>                   <td>OLS</td>       <th>  Adj. R-squared:    </th> <td>   0.909</td>\n",
       "</tr>\n",
       "<tr>\n",
       "  <th>Method:</th>             <td>Least Squares</td>  <th>  F-statistic:       </th> <td>   76.22</td>\n",
       "</tr>\n",
       "<tr>\n",
       "  <th>Date:</th>             <td>Thu, 11 Oct 2018</td> <th>  Prob (F-statistic):</th> <td>4.28e-41</td>\n",
       "</tr>\n",
       "<tr>\n",
       "  <th>Time:</th>                 <td>20:18:05</td>     <th>  Log-Likelihood:    </th> <td> -1966.8</td>\n",
       "</tr>\n",
       "<tr>\n",
       "  <th>No. Observations:</th>      <td>    99</td>      <th>  AIC:               </th> <td>   3962.</td>\n",
       "</tr>\n",
       "<tr>\n",
       "  <th>Df Residuals:</th>          <td>    85</td>      <th>  BIC:               </th> <td>   3998.</td>\n",
       "</tr>\n",
       "<tr>\n",
       "  <th>Df Model:</th>              <td>    13</td>      <th>                     </th>     <td> </td>   \n",
       "</tr>\n",
       "<tr>\n",
       "  <th>Covariance Type:</th>      <td>nonrobust</td>    <th>                     </th>     <td> </td>   \n",
       "</tr>\n",
       "</table>\n",
       "<table class=\"simpletable\">\n",
       "<tr>\n",
       "            <td></td>              <th>coef</th>     <th>std err</th>      <th>t</th>      <th>P>|t|</th>  <th>[0.025</th>    <th>0.975]</th>  \n",
       "</tr>\n",
       "<tr>\n",
       "  <th>Intercept</th>            <td>-1.514e+08</td> <td> 6.19e+07</td> <td>   -2.445</td> <td> 0.017</td> <td>-2.75e+08</td> <td>-2.83e+07</td>\n",
       "</tr>\n",
       "<tr>\n",
       "  <th>domestic_total_gross</th> <td>    1.5709</td> <td>    0.262</td> <td>    6.001</td> <td> 0.000</td> <td>    1.050</td> <td>    2.091</td>\n",
       "</tr>\n",
       "<tr>\n",
       "  <th>opening_weekend</th>      <td>    1.1340</td> <td>    0.845</td> <td>    1.342</td> <td> 0.183</td> <td>   -0.546</td> <td>    2.814</td>\n",
       "</tr>\n",
       "<tr>\n",
       "  <th>production_budget</th>    <td>    1.7346</td> <td>    0.298</td> <td>    5.817</td> <td> 0.000</td> <td>    1.142</td> <td>    2.327</td>\n",
       "</tr>\n",
       "<tr>\n",
       "  <th>dist_Fox</th>             <td> 9.132e+07</td> <td> 4.75e+07</td> <td>    1.923</td> <td> 0.058</td> <td>-3.08e+06</td> <td> 1.86e+08</td>\n",
       "</tr>\n",
       "<tr>\n",
       "  <th>dist_Sony_Columbia</th>   <td> 1.416e+08</td> <td> 5.34e+07</td> <td>    2.654</td> <td> 0.009</td> <td> 3.55e+07</td> <td> 2.48e+08</td>\n",
       "</tr>\n",
       "<tr>\n",
       "  <th>dist_Universal</th>       <td> 1.311e+08</td> <td> 4.79e+07</td> <td>    2.740</td> <td> 0.007</td> <td>  3.6e+07</td> <td> 2.26e+08</td>\n",
       "</tr>\n",
       "<tr>\n",
       "  <th>dist_Warner_Bros</th>     <td> 2.579e+07</td> <td>  4.5e+07</td> <td>    0.573</td> <td> 0.568</td> <td>-6.37e+07</td> <td> 1.15e+08</td>\n",
       "</tr>\n",
       "<tr>\n",
       "  <th>genre_Adventure</th>      <td> 1.733e+06</td> <td> 5.18e+07</td> <td>    0.033</td> <td> 0.973</td> <td>-1.01e+08</td> <td> 1.05e+08</td>\n",
       "</tr>\n",
       "<tr>\n",
       "  <th>genre_Comedy</th>         <td>-1.834e+07</td> <td> 4.02e+07</td> <td>   -0.456</td> <td> 0.650</td> <td>-9.83e+07</td> <td> 6.16e+07</td>\n",
       "</tr>\n",
       "<tr>\n",
       "  <th>genre_Crime</th>          <td>-7.584e-08</td> <td> 4.69e-07</td> <td>   -0.162</td> <td> 0.872</td> <td>-1.01e-06</td> <td> 8.56e-07</td>\n",
       "</tr>\n",
       "<tr>\n",
       "  <th>genre_Drama</th>          <td> 8.099e+07</td> <td> 4.56e+07</td> <td>    1.778</td> <td> 0.079</td> <td>-9.59e+06</td> <td> 1.72e+08</td>\n",
       "</tr>\n",
       "<tr>\n",
       "  <th>genre_Horror</th>         <td>-1.054e+07</td> <td> 5.48e+07</td> <td>   -0.192</td> <td> 0.848</td> <td> -1.2e+08</td> <td> 9.85e+07</td>\n",
       "</tr>\n",
       "<tr>\n",
       "  <th>genre_Romance</th>        <td> 8.183e+07</td> <td> 8.48e+07</td> <td>    0.965</td> <td> 0.337</td> <td>-8.68e+07</td> <td>  2.5e+08</td>\n",
       "</tr>\n",
       "<tr>\n",
       "  <th>genre_Thriller</th>       <td> 1.654e+07</td> <td>  4.1e+07</td> <td>    0.403</td> <td> 0.688</td> <td> -6.5e+07</td> <td> 9.81e+07</td>\n",
       "</tr>\n",
       "</table>\n",
       "<table class=\"simpletable\">\n",
       "<tr>\n",
       "  <th>Omnibus:</th>       <td>25.630</td> <th>  Durbin-Watson:     </th> <td>   2.090</td>\n",
       "</tr>\n",
       "<tr>\n",
       "  <th>Prob(Omnibus):</th> <td> 0.000</td> <th>  Jarque-Bera (JB):  </th> <td>  55.955</td>\n",
       "</tr>\n",
       "<tr>\n",
       "  <th>Skew:</th>          <td> 0.958</td> <th>  Prob(JB):          </th> <td>7.07e-13</td>\n",
       "</tr>\n",
       "<tr>\n",
       "  <th>Kurtosis:</th>      <td> 6.146</td> <th>  Cond. No.          </th> <td>1.69e+25</td>\n",
       "</tr>\n",
       "</table><br/><br/>Warnings:<br/>[1] Standard Errors assume that the covariance matrix of the errors is correctly specified.<br/>[2] The smallest eigenvalue is 1.68e-32. This might indicate that there are<br/>strong multicollinearity problems or that the design matrix is singular."
      ],
      "text/plain": [
       "<class 'statsmodels.iolib.summary.Summary'>\n",
       "\"\"\"\n",
       "                            OLS Regression Results                            \n",
       "==============================================================================\n",
       "Dep. Variable:        worldwide_gross   R-squared:                       0.921\n",
       "Model:                            OLS   Adj. R-squared:                  0.909\n",
       "Method:                 Least Squares   F-statistic:                     76.22\n",
       "Date:                Thu, 11 Oct 2018   Prob (F-statistic):           4.28e-41\n",
       "Time:                        20:18:05   Log-Likelihood:                -1966.8\n",
       "No. Observations:                  99   AIC:                             3962.\n",
       "Df Residuals:                      85   BIC:                             3998.\n",
       "Df Model:                          13                                         \n",
       "Covariance Type:            nonrobust                                         \n",
       "========================================================================================\n",
       "                           coef    std err          t      P>|t|      [0.025      0.975]\n",
       "----------------------------------------------------------------------------------------\n",
       "Intercept            -1.514e+08   6.19e+07     -2.445      0.017   -2.75e+08   -2.83e+07\n",
       "domestic_total_gross     1.5709      0.262      6.001      0.000       1.050       2.091\n",
       "opening_weekend          1.1340      0.845      1.342      0.183      -0.546       2.814\n",
       "production_budget        1.7346      0.298      5.817      0.000       1.142       2.327\n",
       "dist_Fox              9.132e+07   4.75e+07      1.923      0.058   -3.08e+06    1.86e+08\n",
       "dist_Sony_Columbia    1.416e+08   5.34e+07      2.654      0.009    3.55e+07    2.48e+08\n",
       "dist_Universal        1.311e+08   4.79e+07      2.740      0.007     3.6e+07    2.26e+08\n",
       "dist_Warner_Bros      2.579e+07    4.5e+07      0.573      0.568   -6.37e+07    1.15e+08\n",
       "genre_Adventure       1.733e+06   5.18e+07      0.033      0.973   -1.01e+08    1.05e+08\n",
       "genre_Comedy         -1.834e+07   4.02e+07     -0.456      0.650   -9.83e+07    6.16e+07\n",
       "genre_Crime          -7.584e-08   4.69e-07     -0.162      0.872   -1.01e-06    8.56e-07\n",
       "genre_Drama           8.099e+07   4.56e+07      1.778      0.079   -9.59e+06    1.72e+08\n",
       "genre_Horror         -1.054e+07   5.48e+07     -0.192      0.848    -1.2e+08    9.85e+07\n",
       "genre_Romance         8.183e+07   8.48e+07      0.965      0.337   -8.68e+07     2.5e+08\n",
       "genre_Thriller        1.654e+07    4.1e+07      0.403      0.688    -6.5e+07    9.81e+07\n",
       "==============================================================================\n",
       "Omnibus:                       25.630   Durbin-Watson:                   2.090\n",
       "Prob(Omnibus):                  0.000   Jarque-Bera (JB):               55.955\n",
       "Skew:                           0.958   Prob(JB):                     7.07e-13\n",
       "Kurtosis:                       6.146   Cond. No.                     1.69e+25\n",
       "==============================================================================\n",
       "\n",
       "Warnings:\n",
       "[1] Standard Errors assume that the covariance matrix of the errors is correctly specified.\n",
       "[2] The smallest eigenvalue is 1.68e-32. This might indicate that there are\n",
       "strong multicollinearity problems or that the design matrix is singular.\n",
       "\"\"\""
      ]
     },
     "execution_count": 1729,
     "metadata": {},
     "output_type": "execute_result"
    }
   ],
   "source": [
    "model = smf.ols(formula= 'worldwide_gross ~  domestic_total_gross + opening_weekend  + production_budget + dist_Fox + dist_Sony_Columbia + dist_Universal + dist_Warner_Bros + genre_Adventure + genre_Comedy + genre_Crime + genre_Drama + genre_Horror + genre_Romance + genre_Thriller', data = new_df)\n",
    "results = model.fit()\n",
    "results.summary()"
   ]
  },
  {
   "cell_type": "code",
   "execution_count": 1788,
   "metadata": {},
   "outputs": [],
   "source": [
    "from patsy import dmatrices\n",
    "response, predictors = dmatrices('worldwide_gross ~  domestic_total_gross + opening_weekend  + production_budget + dist_Fox + dist_Sony_Columbia + dist_Universal + dist_Warner_Bros + genre_Adventure + genre_Comedy + genre_Crime + genre_Drama + genre_Horror + genre_Romance + genre_Thriller',data = new_df) \n"
   ]
  },
  {
   "cell_type": "code",
   "execution_count": 1790,
   "metadata": {},
   "outputs": [
    {
     "name": "stdout",
     "output_type": "stream",
     "text": [
      "                variable       coef_lr\n",
      "0              Intercept  0.000000e+00\n",
      "1   domestic_total_gross  1.051813e+00\n",
      "2        opening_weekend  3.079543e+00\n",
      "3      production_budget  1.326370e+00\n",
      "4               dist_Fox  7.765180e+07\n",
      "5     dist_Sony_Columbia  1.320790e+08\n",
      "6         dist_Universal  1.097987e+08\n",
      "7       dist_Warner_Bros  4.409649e+07\n",
      "8        genre_Adventure  3.710652e+07\n",
      "9           genre_Comedy -5.589223e+06\n",
      "10           genre_Crime  4.001392e-07\n",
      "11           genre_Drama  8.037931e+07\n",
      "12          genre_Horror -2.661165e+06\n",
      "13         genre_Romance  6.965545e+07\n",
      "14        genre_Thriller  2.408820e+07\n"
     ]
    }
   ],
   "source": [
    "from sklearn.cross_validation import train_test_split\n",
    "import pandas as pd\n",
    "\n",
    "X_train, X_test, y_train, y_test = train_test_split(predictors, response, test_size=0.20, random_state = 42)\n",
    "\n",
    "from sklearn.linear_model import LinearRegression\n",
    "lr = LinearRegression(normalize = True).fit(X_train, y_train)\n",
    "\n",
    "model_coefs = pd.DataFrame(list(zip(predictors.design_info.column_names, lr.coef_[0])), columns=['variable', 'coef_lr'])\n",
    "\n",
    "print(model_coefs)"
   ]
  },
  {
   "cell_type": "code",
   "execution_count": 1791,
   "metadata": {},
   "outputs": [
    {
     "name": "stdout",
     "output_type": "stream",
     "text": [
      "0.923884955032\n"
     ]
    }
   ],
   "source": [
    "lr.score(X_train, y_train)"
   ]
  },
  {
   "cell_type": "code",
   "execution_count": 1792,
   "metadata": {},
   "outputs": [
    {
     "name": "stdout",
     "output_type": "stream",
     "text": [
      "0.881542635844\n"
     ]
    }
   ],
   "source": [
    "lr.score(X_test, y_test)"
   ]
  },
  {
   "cell_type": "code",
   "execution_count": 1786,
   "metadata": {},
   "outputs": [],
   "source": [
    "from sklearn.linear_model import Lasso\n",
    "lasso = Lasso(normalize=True, random_state=0).fit(X_test, y_test)"
   ]
  },
  {
   "cell_type": "code",
   "execution_count": 1787,
   "metadata": {},
   "outputs": [
    {
     "name": "stdout",
     "output_type": "stream",
     "text": [
      "                variable       coef_lr    coef_lasso\n",
      "0              Intercept  0.000000e+00  0.000000e+00\n",
      "1   domestic_total_gross  7.414698e-01  2.519024e+00\n",
      "2        opening_weekend  3.899749e+00 -3.068530e-01\n",
      "3      production_budget  1.799875e+00  7.458917e-01\n",
      "4               dist_Fox  1.503567e+08 -1.661788e+07\n",
      "5     dist_Sony_Columbia  2.054011e+08 -4.262083e+07\n",
      "6         dist_Universal  1.953512e+08  7.345396e+07\n",
      "7       dist_Warner_Bros  9.905301e+07 -4.789642e+06\n",
      "8        genre_Adventure  2.612853e+06  1.316384e+08\n",
      "9           genre_Comedy -8.598393e+06 -1.121207e+07\n",
      "10           genre_Crime -2.147166e-07  0.000000e+00\n",
      "11           genre_Drama  1.103575e+08 -1.363021e+07\n",
      "12          genre_Horror  2.035676e+07  0.000000e+00\n",
      "13         genre_Romance  8.538099e+07  0.000000e+00\n",
      "14        genre_Thriller  3.620504e+07 -3.362242e+06\n"
     ]
    }
   ],
   "source": [
    "coefs_lasso = pd.DataFrame(list(zip(predictors.design_info.column_names, lasso.coef_)), columns=['variable', 'coef_lasso'])\n",
    "model_coef  = pd.merge(model_coefs, coefs_lasso, on='variable')\n",
    "print(model_coef)"
   ]
  },
  {
   "cell_type": "code",
   "execution_count": 1780,
   "metadata": {},
   "outputs": [
    {
     "name": "stdout",
     "output_type": "stream",
     "text": [
      "0.826099427437\n"
     ]
    }
   ],
   "source": [
    "lasso.score(X_train, y_train)"
   ]
  },
  {
   "cell_type": "code",
   "execution_count": 1781,
   "metadata": {},
   "outputs": [
    {
     "name": "stdout",
     "output_type": "stream",
     "text": [
      "0.94750680405\n"
     ]
    }
   ],
   "source": [
    "lasso.score(X_test, y_test)"
   ]
  },
  {
   "cell_type": "code",
   "execution_count": 1628,
   "metadata": {},
   "outputs": [],
   "source": [
    "from sklearn import cross_validation\n",
    "from sklearn.cross_validation import train_test_split\n",
    "from sklearn.cross_validation import KFold\n",
    "from sklearn.model_selection import KFold\n",
    "from sklearn import linear_model\n",
    "from sklearn.cross_validation import KFold\n",
    "from sklearn.metrics import r2_score,mean_squared_error\n"
   ]
  },
  {
   "cell_type": "code",
   "execution_count": 1796,
   "metadata": {},
   "outputs": [],
   "source": [
    "new_df = new_df.dropna(how='any',axis=0)"
   ]
  },
  {
   "cell_type": "code",
   "execution_count": 1852,
   "metadata": {},
   "outputs": [
    {
     "data": {
      "text/plain": [
       "0.91964063795331397"
      ]
     },
     "execution_count": 1852,
     "metadata": {},
     "output_type": "execute_result"
    }
   ],
   "source": [
    "X = new_df[['domestic_total_gross','production_budget', 'genre_Adventure', 'dist_Universal' ]]\n",
    "y = new_df.worldwide_gross\n",
    "\n",
    "X_train, X_test, y_train, y_test = cross_validation.train_test_split(X, y, test_size=0.3)\n",
    "\n",
    "X_train = X_train.reset_index(drop=True)\n",
    "y_train = y_train.reset_index(drop=True)\n",
    "kf = KFold(len(X_train), n_folds=5)\n",
    "lasso = []\n",
    "\n",
    "for train,test in kf:\n",
    "    lsv = linear_model.LassoCV(cv=10)    \n",
    "    lsv.fit(X_train.loc[train],np.array(y_train.loc[train]).reshape(len(train)))\n",
    "    lasso.append(lsv.score(X_train.loc[test],y_train.loc[test])) \n",
    "\n",
    "\n",
    "mean = np.mean(lasso)\n",
    "np.sqrt(mean)"
   ]
  },
  {
   "cell_type": "code",
   "execution_count": 1836,
   "metadata": {},
   "outputs": [
    {
     "name": "stdout",
     "output_type": "stream",
     "text": [
      "[0.8277866218552834, 0.96165338330145533, 0.92124013382887815, 0.66657610122239142, 0.87294560204994975]\n"
     ]
    }
   ],
   "source": [
    "print(lasso)"
   ]
  },
  {
   "cell_type": "code",
   "execution_count": 1837,
   "metadata": {},
   "outputs": [
    {
     "name": "stdout",
     "output_type": "stream",
     "text": [
      "Lasso coeff:\n",
      "('domestic_total_gross', 1.9641178729131317) \n",
      "\n",
      "('production_budget', 1.3128462552811369) \n",
      "\n",
      "('genre_Adventure', -0.0) \n",
      "\n",
      "('dist_Universal', 0.0) \n",
      "\n"
     ]
    }
   ],
   "source": [
    "print(\"Lasso coeff:\")\n",
    "coeff_list = [(col,coeff) for col,coeff in zip(X_train.columns,cf_l)]\n",
    "for i in coeff_list:\n",
    "    print(i,'\\n')"
   ]
  },
  {
   "cell_type": "code",
   "execution_count": 1838,
   "metadata": {},
   "outputs": [],
   "source": [
    "predict_lsv = lsv.predict(X_test)"
   ]
  },
  {
   "cell_type": "code",
   "execution_count": 1839,
   "metadata": {},
   "outputs": [
    {
     "name": "stdout",
     "output_type": "stream",
     "text": [
      "0.86360821579\n",
      "1.35509944947e+16\n"
     ]
    }
   ],
   "source": [
    "from sklearn.metrics import r2_score,mean_squared_error\n",
    "print(r2_score(y_test,predict_lsv))\n",
    "print(mean_squared_error(y_test,predict_lsv))"
   ]
  },
  {
   "cell_type": "code",
   "execution_count": null,
   "metadata": {},
   "outputs": [],
   "source": []
  }
 ],
 "metadata": {
  "kernelspec": {
   "display_name": "Python 3",
   "language": "python",
   "name": "python3"
  },
  "language_info": {
   "codemirror_mode": {
    "name": "ipython",
    "version": 3
   },
   "file_extension": ".py",
   "mimetype": "text/x-python",
   "name": "python",
   "nbconvert_exporter": "python",
   "pygments_lexer": "ipython3",
   "version": "3.6.4"
  }
 },
 "nbformat": 4,
 "nbformat_minor": 2
}
